{
 "cells": [
  {
   "cell_type": "markdown",
   "metadata": {},
   "source": [
    "В задаче я буду использовать следующие обозначения:\n",
    "\n",
    "$$q_{\\text{параметры априорного распределения}}(\\text{оцениваемый параметр})\\text{ — априорная плотность,}$$\n",
    "$$q_{\\text{параметры априорного распределения}}(\\text{оцениваемый параметр }|\\text{ выборка})\\text{ — апострериорная плотность,}$$\n",
    "$$X(k,l)\\text{ — выборка из распределения Бернулли, в которой $k$ успехов и $l$ провалов,}$$\n",
    "$$f_{\\text{параметр}}(\\text{выборка})\\text{ — функция правдоподобия.}$$\n",
    "\n",
    "Из теории известно, что бета-распределение является сопряжённым к распределению Бернулли. Давайте проверим это, а заодно посмотрим, как выглядит байесовская оценка параметра $\\theta = \\text{«количество успехов»}$. Итак, априорную плотность распределения параметра $\\theta$ полагаем равной плотности бета-распределения.\n",
    "\n",
    "$$q_{\\alpha,\\beta}(\\theta) = \\frac{{\\theta}^{\\alpha - 1} (1 - \\theta)^{\\beta - 1}}{B(\\alpha, \\beta)} \\sim Be(\\alpha, \\beta)$$\n",
    "\n",
    "Тогда апостериорная плотность имеет тот же вид, что и априорная.\n",
    "\n",
    "$$q_{\\alpha,\\beta}(\\theta | X(k,l))\n",
    "=\\frac{f_\\theta(X(k,l))q_{\\alpha,\\beta}(\\theta)}{\\int_0^1f_t(X(k,l))q_{\\alpha,\\beta}(t)dt}\n",
    "=\\frac{\\theta^k(1 - \\theta)^l\\frac{{\\theta}^{\\alpha - 1} (1 - \\theta)^{\\beta - 1}}{B(\\alpha, \\beta)}}{\\int_0^1t^k(1 - t)^l\\frac{{t}^{\\alpha - 1} (1 - t)^{\\beta - 1}}{B(\\alpha, \\beta)}dt}=$$\n",
    "$$=\\frac{\\theta^{k + \\alpha - 1}(1 - \\theta)^{l + \\beta - 1}}\n",
    "{\\int_0^1t^{k + \\alpha - 1}(1 - t)^{l + \\beta - 1}dt}\n",
    "=\\frac{\\theta^{k + \\alpha - 1}(1 - \\theta)^{l + \\beta - 1}}{B(k + \\alpha,l + \\beta)} \\sim Be(k + \\alpha, l + \\beta)$$\n",
    "\n",
    "Более того, видно, как персчитываются параметры бета-распределения.\n",
    "\n",
    "Выведем, наконец, байесовскую оценку. Точечная байесовская оценка параметра — это математическое ожидание его апостериорной плотности. Известно, что\n",
    "\n",
    "$$\\xi\\sim Be(\\alpha,\\beta) \\Rightarrow E\\xi=\\frac{\\alpha}{\\alpha + \\beta}\\text{.}$$\n",
    "\n",
    "Выпишем значение байесовской оценки $\\hat{\\theta}_{\\alpha,\\beta}(X(k,l))$ с априорным распределением $Be(\\alpha,\\beta)$ параметра $\\theta$ по выборке $X(k,l)$.\n",
    "\n",
    "$$\\hat{\\theta}_{\\alpha,\\beta}(X(k,l))=\\frac{\\alpha + k}{\\alpha + \\beta + k + l}$$\n",
    "\n",
    "Оценка максимального правдоподобия для бернуллиевской случайной величины — это выборочное среднее. Запишем её в наших обозначениях.\n",
    "\n",
    "$$\\hat{\\theta}_\\text{ММП}(X(k,l)) = \\frac{k}{k + l}$$"
   ]
  },
  {
   "cell_type": "code",
   "execution_count": null,
   "metadata": {
    "collapsed": true
   },
   "outputs": [],
   "source": []
  },
  {
   "cell_type": "code",
   "execution_count": null,
   "metadata": {
    "collapsed": true
   },
   "outputs": [],
   "source": []
  },
  {
   "cell_type": "code",
   "execution_count": null,
   "metadata": {
    "collapsed": true
   },
   "outputs": [],
   "source": []
  },
  {
   "cell_type": "code",
   "execution_count": null,
   "metadata": {
    "collapsed": true
   },
   "outputs": [],
   "source": []
  },
  {
   "cell_type": "code",
   "execution_count": null,
   "metadata": {
    "collapsed": true
   },
   "outputs": [],
   "source": []
  }
 ],
 "metadata": {
  "kernelspec": {
   "display_name": "Python 3",
   "language": "python",
   "name": "python3"
  },
  "language_info": {
   "codemirror_mode": {
    "name": "ipython",
    "version": 3
   },
   "file_extension": ".py",
   "mimetype": "text/x-python",
   "name": "python",
   "nbconvert_exporter": "python",
   "pygments_lexer": "ipython3",
   "version": "3.5.0"
  }
 },
 "nbformat": 4,
 "nbformat_minor": 0
}
