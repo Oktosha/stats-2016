{
 "cells": [
  {
   "cell_type": "code",
   "execution_count": 1,
   "metadata": {
    "collapsed": false
   },
   "outputs": [
    {
     "name": "stdout",
     "output_type": "stream",
     "text": [
      "Populating the interactive namespace from numpy and matplotlib\n"
     ]
    }
   ],
   "source": [
    "import scipy.stats as sps\n",
    "import matplotlib.pyplot as plt\n",
    "import numpy as np\n",
    "%pylab inline"
   ]
  },
  {
   "cell_type": "markdown",
   "metadata": {},
   "source": [
    "Часть 1. Устройство\n",
    "===================\n",
    "\n",
    "Загрузим в память выборку и посмотрим на неё."
   ]
  },
  {
   "cell_type": "code",
   "execution_count": 2,
   "metadata": {
    "collapsed": false
   },
   "outputs": [
    {
     "data": {
      "image/png": "[encoded data removed]",
      "text/plain": [
       "<matplotlib.figure.Figure at 0x1101bcb70>"
      ]
     },
     "metadata": {},
     "output_type": "display_data"
    }
   ],
   "source": [
    "cauchy_sample = np.loadtxt(open(\"cauchy.txt\"))\n",
    "\n",
    "def draw_sample(sample, label, start, finish):\n",
    "    plt.figure(figsize=(12, 5))\n",
    "    plt.axis([start, finish, -0.2, 0.2])\n",
    "    plt.scatter(sample, np.zeros(len(sample)), alpha=0.2, label=label)\n",
    "    plt.legend(bbox_to_anchor=(1.05, 1), loc=2, borderaxespad=0.)\n",
    "    plt.show()\n",
    "\n",
    "plot_delta = 0.2 * (cauchy_sample.max() - cauchy_sample.min());\n",
    "\n",
    "draw_sample(cauchy_sample, \"cauchy\",\n",
    "            cauchy_sample.min() - plot_delta, \n",
    "            cauchy_sample.max() + plot_delta)"
   ]
  },
  {
   "cell_type": "markdown",
   "metadata": {},
   "source": [
    "Считать оценку методом максимального правдоподобия на всём интервале долго. Я попыталась это сделать, но ожидание затянулось. Поэтому воспользуемся тем, что медиана из распределения Коши совпадает с искомым параметром. Давайте посмотрим поближе, где сосредоточена большая часть значений."
   ]
  },
  {
   "cell_type": "code",
   "execution_count": 3,
   "metadata": {
    "collapsed": false
   },
   "outputs": [
    {
     "data": {
      "image/png": "[encoded data removed]",
      "text/plain": [
       "<matplotlib.figure.Figure at 0x1101a9e48>"
      ]
     },
     "metadata": {},
     "output_type": "display_data"
    }
   ],
   "source": [
    "draw_sample(cauchy_sample, \"cauchy\",\n",
    "            -600, \n",
    "            -300)"
   ]
  },
  {
   "cell_type": "markdown",
   "metadata": {},
   "source": [
    "Из графика видно, что значение параметра стоит искать на интервале $[-500, -420]$, так как большая часть значений сосредоточена именно там (значит и медиана там же где-то).\n",
    "\n",
    "Напишем функцию, которая ищет оценку методом максимального правдоподобия по заданным выборке **sample**, сетке **grid** и логарифму функции плотности **logpdf**. **logpdf** — это функция, которая принимает на вход два значения:\n",
    "\n",
    "1. точку, в которой нужно посчитать логарифм плотности,\n",
    "2. параметр распределения (тот самый который оцениваем)."
   ]
  },
  {
   "cell_type": "code",
   "execution_count": 4,
   "metadata": {
    "collapsed": true
   },
   "outputs": [],
   "source": [
    "class LnLikelihood:\n",
    "    def calc_scalar(self, param):\n",
    "        # считает логарифм функции правдоподобия для значения параметра param\n",
    "        return self.logpdf(self.sample, param).sum()\n",
    "    \n",
    "    def __init__(self, sample, logpdf):\n",
    "        self.sample = sample\n",
    "        self.logpdf = logpdf\n",
    "        # делаем calc_scalar применимой к np.array\n",
    "        self.calc = np.vectorize(self.calc_scalar)\n",
    "    \n",
    "def param_by_mle(sample, logpdf, grid):\n",
    "    ln_likelihood = LnLikelihood(sample, logpdf)\n",
    "    return grid[ln_likelihood.calc(grid).argmax()]"
   ]
  },
  {
   "cell_type": "markdown",
   "metadata": {},
   "source": [
    "Посчитаем оценки параметра."
   ]
  },
  {
   "cell_type": "code",
   "execution_count": 5,
   "metadata": {
    "collapsed": false
   },
   "outputs": [
    {
     "name": "stdout",
     "output_type": "stream",
     "text": [
      "Для первой половины: -469.24\n",
      "Для всей выборки: -469.15\n"
     ]
    }
   ],
   "source": [
    "# заворачиваем библиотечную функцию, чтобы передать нашей param_by_mle\n",
    "def cauchy_logpdf(x, param):\n",
    "    return sps.cauchy.logpdf(x, loc=param)\n",
    "\n",
    "cauchy_grid = np.arange(-500, -420, 0.01) #шаг из условия, интервал пояснён выше\n",
    "\n",
    "print(\"Для первой половины:\", end=\" \")\n",
    "print(param_by_mle(cauchy_sample[:len(cauchy_sample) // 2], cauchy_logpdf, cauchy_grid))\n",
    "print(\"Для всей выборки:\", end=\" \")\n",
    "print(param_by_mle(cauchy_sample, cauchy_logpdf, cauchy_grid))"
   ]
  },
  {
   "cell_type": "markdown",
   "metadata": {},
   "source": [
    "Заметим, что полученные оценкци не сильно отличаются от тех, которые насчитала библиотечная функция. В частности, это подтверждает, что интервал для поиска был выбран правильно."
   ]
  },
  {
   "cell_type": "code",
   "execution_count": 6,
   "metadata": {
    "collapsed": false
   },
   "outputs": [
    {
     "name": "stdout",
     "output_type": "stream",
     "text": [
      "Для первой половины: -469.237787141\n",
      "Для всей выборки: -469.153233563\n"
     ]
    }
   ],
   "source": [
    "print(\"Для первой половины:\", end=\" \")\n",
    "print(sps.cauchy.fit(cauchy_sample[:len(cauchy_sample) // 2], fscale=1)[0])\n",
    "print(\"Для всей выборки:\", end=\" \")\n",
    "print(sps.cauchy.fit(cauchy_sample, fscale=1)[0])"
   ]
  },
  {
   "cell_type": "markdown",
   "metadata": {},
   "source": [
    "Часть 2. Банк\n",
    "=============\n",
    "\n",
    "Загрузим в память выборку и посмотрим на неё. Ничего не понятно, ну ок."
   ]
  },
  {
   "cell_type": "code",
   "execution_count": 7,
   "metadata": {
    "collapsed": false
   },
   "outputs": [
    {
     "data": {
      "image/png": "[encoded data removed]",
      "text/plain": [
       "<matplotlib.figure.Figure at 0x112d78748>"
      ]
     },
     "metadata": {},
     "output_type": "display_data"
    }
   ],
   "source": [
    "weibull_sample = np.loadtxt(open(\"weibull.txt\"))\n",
    "draw_sample(weibull_sample, \"weibull\", 0.8, 1.1)\n"
   ]
  },
  {
   "cell_type": "markdown",
   "metadata": {},
   "source": [
    "Применим ту же самую функцию, чтобы оценить параметр распределения Вейбулла."
   ]
  },
  {
   "cell_type": "code",
   "execution_count": 8,
   "metadata": {
    "collapsed": false
   },
   "outputs": [
    {
     "name": "stdout",
     "output_type": "stream",
     "text": [
      "Для первых 4-х лет: 42.364296605\n",
      "Для всей выборки: 41.9758983991\n"
     ]
    }
   ],
   "source": [
    "# Такое же заворачивание, как для Коши.\n",
    "# Можно заметить, что я просто привожу к общему виду\n",
    "# передачу параметра в распределение.\n",
    "def weibull_logpdf(x, param):\n",
    "    return sps.weibull_min.logpdf(x, c=param)\n",
    "\n",
    "#В условии требовалось взять шаг 1e-3 на логарифмической шкале от -2 до 2\n",
    "#Именно это я тут и делаю\n",
    "weibull_grid = np.logspace(-2, 2, num=4001) \n",
    "\n",
    "print(\"Для первых 4-х лет:\", end=\" \")\n",
    "\n",
    "#Учитываем високосный год. В условии за 10 лет измерений было 2 високосных года.\n",
    "#Среди 4-х подряд идущих лет обязательно есть високосный.\n",
    "n_days_in_4_years = 365 * 4 + 1 \n",
    "\n",
    "print(param_by_mle(weibull_sample[:n_days_in_4_years], weibull_logpdf, weibull_grid))\n",
    "print(\"Для всей выборки:\", end=\" \")\n",
    "print(param_by_mle(weibull_sample, weibull_logpdf, weibull_grid))"
   ]
  },
  {
   "cell_type": "markdown",
   "metadata": {},
   "source": [
    "Получим результат, который не сильно отличается от оценки библиотечной функцией."
   ]
  },
  {
   "cell_type": "code",
   "execution_count": 9,
   "metadata": {
    "collapsed": false
   },
   "outputs": [
    {
     "name": "stdout",
     "output_type": "stream",
     "text": [
      "Для первых 4-х лет: 42.3385742188\n",
      "Для всей выборки: 42.0044921875\n"
     ]
    }
   ],
   "source": [
    "print(\"Для первых 4-х лет:\", end=\" \")\n",
    "print(sps.weibull_min.fit(weibull_sample[:n_days_in_4_years], fscale=1, floc=0)[0])\n",
    "print(\"Для всей выборки:\", end=\" \")\n",
    "print(sps.weibull_min.fit(weibull_sample, fscale=1, floc=0)[0])"
   ]
  }
 ],
 "metadata": {
  "kernelspec": {
   "display_name": "Python 3",
   "language": "python",
   "name": "python3"
  },
  "language_info": {
   "codemirror_mode": {
    "name": "ipython",
    "version": 3
   },
   "file_extension": ".py",
   "mimetype": "text/x-python",
   "name": "python",
   "nbconvert_exporter": "python",
   "pygments_lexer": "ipython3",
   "version": "3.5.0"
  }
 },
 "nbformat": 4,
 "nbformat_minor": 0
}
