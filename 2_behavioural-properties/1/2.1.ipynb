{
 "cells": [
  {
   "cell_type": "markdown",
   "metadata": {},
   "source": [
    "#Тема 2. Свойства оценок.\n",
    "##Задача 1 (к теоретической задаче 1)."
   ]
  },
  {
   "cell_type": "code",
   "execution_count": 1,
   "metadata": {
    "collapsed": false
   },
   "outputs": [
    {
     "name": "stdout",
     "output_type": "stream",
     "text": [
      "Populating the interactive namespace from numpy and matplotlib\n"
     ]
    }
   ],
   "source": [
    "import scipy.stats as sps\n",
    "import matplotlib.pyplot as plt\n",
    "import numpy as np\n",
    "%pylab inline"
   ]
  },
  {
   "cell_type": "markdown",
   "metadata": {},
   "source": [
    "Напишем функции для вычисления интересующих нас оценок"
   ]
  },
  {
   "cell_type": "code",
   "execution_count": 2,
   "metadata": {
    "collapsed": true
   },
   "outputs": [],
   "source": [
    "class Estimator:\n",
    "    def __init__(self, function, tex_description):\n",
    "        self.function = function\n",
    "        self.tex_description = tex_description"
   ]
  },
  {
   "cell_type": "code",
   "execution_count": 3,
   "metadata": {
    "collapsed": true
   },
   "outputs": [],
   "source": [
    "teta_cup = []"
   ]
  },
  {
   "cell_type": "markdown",
   "metadata": {},
   "source": [
    "$2\\overline{X}$"
   ]
  },
  {
   "cell_type": "code",
   "execution_count": 4,
   "metadata": {
    "collapsed": false
   },
   "outputs": [],
   "source": [
    "teta_cup.append(\n",
    "    Estimator(lambda sample: 2 * sample.mean(),\n",
    "              r\"$2\\overline{X}$\"))"
   ]
  },
  {
   "cell_type": "markdown",
   "metadata": {},
   "source": [
    "$\\overline{X} + X_{(n)}/2$"
   ]
  },
  {
   "cell_type": "code",
   "execution_count": 5,
   "metadata": {
    "collapsed": true
   },
   "outputs": [],
   "source": [
    "teta_cup.append(\n",
    "    Estimator(lambda sample: sample.mean() + (sample.max() / 2),\n",
    "              r\"$\\overline{X} + X_{(n)}/2$\"))"
   ]
  },
  {
   "cell_type": "markdown",
   "metadata": {},
   "source": [
    "$(n + 1) X_{(1)}$"
   ]
  },
  {
   "cell_type": "code",
   "execution_count": 6,
   "metadata": {
    "collapsed": true
   },
   "outputs": [],
   "source": [
    "teta_cup.append(\n",
    "    Estimator(lambda sample: (len(sample) + 1) * sample.min(),\n",
    "              r\"$(n + 1) X_{(1)}$\"))"
   ]
  },
  {
   "cell_type": "markdown",
   "metadata": {},
   "source": [
    "$X_{(1)} +  X_{(n)}$"
   ]
  },
  {
   "cell_type": "code",
   "execution_count": 7,
   "metadata": {
    "collapsed": false
   },
   "outputs": [],
   "source": [
    "teta_cup.append(\n",
    "    Estimator(lambda sample: sample.min() + sample.max(),\n",
    "              r\"$X_{(1)} +  X_{(n)}$\"))"
   ]
  },
  {
   "cell_type": "markdown",
   "metadata": {},
   "source": [
    "$\\frac{n + 1}{n}X_{(n)}$"
   ]
  },
  {
   "cell_type": "code",
   "execution_count": 8,
   "metadata": {
    "collapsed": false
   },
   "outputs": [],
   "source": [
    "teta_cup.append(\n",
    "    Estimator(lambda sample: (len(sample) + 1) / len(sample) * sample.max(),\n",
    "              r\"$\\frac{n + 1}{n}X_{(n)}$\"))"
   ]
  },
  {
   "cell_type": "markdown",
   "metadata": {},
   "source": [
    "Генерируем выборку из равномерного распределения на отрезке [0, teta]."
   ]
  },
  {
   "cell_type": "code",
   "execution_count": 13,
   "metadata": {
    "collapsed": false
   },
   "outputs": [],
   "source": [
    "def gen_prefixes(some_list):\n",
    "    prefixes = []\n",
    "    for i in range(1, N + 1):\n",
    "        prefixes.append(sample[0:i])\n",
    "    return prefixes"
   ]
  },
  {
   "cell_type": "code",
   "execution_count": 10,
   "metadata": {
    "collapsed": true
   },
   "outputs": [],
   "source": [
    "def normalize(values, teta):\n",
    "    return list(map(lambda x: abs(x - teta), values))"
   ]
  },
  {
   "cell_type": "code",
   "execution_count": 34,
   "metadata": {
    "collapsed": false
   },
   "outputs": [],
   "source": [
    "def draw_plot(sample, teta, estimators, plot_height):\n",
    "    sample_prefixes = gen_prefixes(sample)\n",
    "    plt.figure(figsize=(12, 5))\n",
    "    plt.axis([0, len(sample), 0, plot_height])\n",
    "    plt.rc('text', usetex=True)\n",
    "    for estimator in estimators:\n",
    "        plt.plot(normalize(map(estimator.function, sample_prefixes), teta),\n",
    "                 label=estimator.tex_description)\n",
    "    plt.legend()\n",
    "    plt.show()"
   ]
  },
  {
   "cell_type": "code",
   "execution_count": 39,
   "metadata": {
    "collapsed": false
   },
   "outputs": [
    {
     "data": {
      "image/png": "[encoded data removed]",
      "text/plain": [
       "<matplotlib.figure.Figure at 0x10b6ecef0>"
      ]
     },
     "metadata": {},
     "output_type": "display_data"
    }
   ],
   "source": [
    "teta = 100\n",
    "N = 10000\n",
    "sample = sps.uniform.rvs(0, teta, N)\n",
    "draw_plot(sample, teta, [teta_cup[0], teta_cup[1], teta_cup[3], teta_cup[4]], teta / N)"
   ]
  }
 ],
 "metadata": {
  "kernelspec": {
   "display_name": "Python 3",
   "language": "python",
   "name": "python3"
  },
  "language_info": {
   "codemirror_mode": {
    "name": "ipython",
    "version": 3
   },
   "file_extension": ".py",
   "mimetype": "text/x-python",
   "name": "python",
   "nbconvert_exporter": "python",
   "pygments_lexer": "ipython3",
   "version": "3.5.0"
  }
 },
 "nbformat": 4,
 "nbformat_minor": 0
}
