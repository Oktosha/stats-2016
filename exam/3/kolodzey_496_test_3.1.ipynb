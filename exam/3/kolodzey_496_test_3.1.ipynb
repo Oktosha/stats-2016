{
 "cells": [
  {
   "cell_type": "markdown",
   "metadata": {},
   "source": [
    "Шаг 1. Считаю параметры \\alpha для каждой задачи."
   ]
  },
  {
   "cell_type": "code",
   "execution_count": 7,
   "metadata": {
    "collapsed": false
   },
   "outputs": [
    {
     "name": "stdout",
     "output_type": "stream",
     "text": [
      "Populating the interactive namespace from numpy and matplotlib\n"
     ]
    }
   ],
   "source": [
    "%pylab inline\n",
    "import csv\n",
    "from collections import Counter"
   ]
  },
  {
   "cell_type": "code",
   "execution_count": 88,
   "metadata": {
    "collapsed": false,
    "scrolled": true
   },
   "outputs": [
    {
     "name": "stdout",
     "output_type": "stream",
     "text": [
      "Kargal'cev Stepan      [5] =3   =0   =3   =1   =3   =3   =3   =3   =3   =3   ~2.4 =3   =3   \n",
      "Rudenko Irina          [4] =3   =1   =3   =1   =0   =2   =1   =2   =3   =2   ~1.8 =3   =2   \n",
      "Kozlov Semjon          [4] =3   =0   ~1.8 ~1.7 ~1.3 =2   ~1.7 ~1.4 ~1.6 ~1.8 ~1.4 ~1.8 ~1.7 \n",
      "Kolodzej Dar'ja        [5] =3   =3   ~2.8 ~2.7 ~2.3 =3   ~2.7 ~2.4 ~2.6 ~2.8 ~2.4 ~2.8 ~2.7 \n",
      "14 students get 2\n",
      "11 students get 3\n",
      "42 students get 4\n",
      "20 students get 5\n",
      "Predict [2]            [2] ~0.4 ~0.5 ~0.2 ~0.3 ~0.0 ~0.2 ~0.1 ~0.0 ~0.1 ~0.5 ~0.2 ~0.7 ~0.3 \n",
      "Predict [3]            [3] ~2.0 ~2.3 ~1.9 ~1.9 ~0.3 ~0.4 ~1.4 ~0.6 ~0.7 ~1.9 ~1.2 ~1.2 ~1.0 \n",
      "Predict [4]            [4] ~2.8 ~2.3 ~2.5 ~1.8 ~0.4 ~2.0 ~2.3 ~0.6 ~1.8 ~2.7 ~1.3 ~2.9 ~1.8 \n",
      "Predict [5]            [5] ~3.0 ~2.6 ~2.8 ~2.6 ~1.6 ~2.8 ~2.9 ~2.5 ~2.8 ~2.8 ~2.2 ~2.8 ~2.6 \n",
      "Predict [3, 4, 5]      [4] ~2.7 ~2.4 ~2.5 ~2.0 ~0.7 ~2.0 ~2.3 ~1.1 ~1.9 ~2.6 ~1.6 ~2.6 ~1.9 \n",
      "Counter({3: 63, 0: 14, 2: 7, 1: 3})\n",
      "Counter({3: 46, 2: 19, 0: 16, 1: 6})\n",
      "Counter({3: 44, -1: 16, 0: 13, 2: 9, 1: 5})\n",
      "Counter({3: 26, 1: 23, -1: 16, 0: 11, 2: 11})\n",
      "Counter({0: 60, -1: 16, 3: 8, 1: 3})\n",
      "Counter({3: 30, 0: 26, 2: 25, 1: 6})\n",
      "Counter({3: 41, 0: 22, -1: 16, 2: 6, 1: 2})\n",
      "Counter({0: 49, -1: 16, 3: 14, 1: 4, 2: 4})\n",
      "Counter({0: 30, 3: 28, -1: 16, 2: 12, 1: 1})\n",
      "Counter({3: 44, -1: 16, 2: 15, 0: 12})\n",
      "Counter({-1: 54, 0: 19, 1: 8, 2: 3, 3: 3})\n",
      "Counter({3: 54, -1: 16, 0: 15, 2: 2})\n",
      "Counter({-1: 49, 0: 12, 3: 12, 2: 11, 1: 3})\n"
     ]
    }
   ],
   "source": [
    "class Student:\n",
    "    def __init__(self):\n",
    "        self.name = \"Anonymous\"\n",
    "        self.marks = [-1] * 13 \n",
    "        self.predicted = [0] * 13\n",
    "        self.label = 2\n",
    "\n",
    "#marks shouldn't contain empty strings\n",
    "def predict_marks(marks, g_count):\n",
    "    ans = []\n",
    "    p_count = Counter(marks)\n",
    "    for n in range(13):\n",
    "        \n",
    "        mark = marks[n]\n",
    "        p_checked = 13 - p_count[-1]\n",
    "        g_checked = 87 - g_count[n][-1]\n",
    "        \n",
    "        if mark == -1:        \n",
    "            prediction = 0\n",
    "            sum_alpha = 0\n",
    "            sum_personal = 0\n",
    "            for j in range(0, 4):\n",
    "                alpha = (g_count[n][j] / g_checked)\n",
    "                teta = (p_count[j] + alpha) / (1 + p_checked)\n",
    "                prediction += j * teta\n",
    "        else:\n",
    "            prediction = mark\n",
    "            \n",
    "        ans.append(prediction)\n",
    "    return ans\n",
    "\n",
    "def calc_label(student):\n",
    "    normed_sum = 10 * sum(student.predicted) / (13 * 3)\n",
    "    if normed_sum < 3:\n",
    "        return 2\n",
    "    elif normed_sum < 5:\n",
    "        return 3\n",
    "    elif normed_sum < 8:\n",
    "        return 4\n",
    "    return 5\n",
    "\n",
    "def print_marks(student):\n",
    "    print(student.name.ljust(22), end=\" \")\n",
    "    print(\"[{:d}]\".format(student.label), end =\" \")\n",
    "    for i in range(13):\n",
    "        if student.marks[i] == -1:\n",
    "            print(\"~{:1.1f}\".format(student.predicted[i]), end=\" \")\n",
    "        else:\n",
    "            print(\"=\" + str(student.marks[i]).ljust(3), end=\" \")\n",
    "    print()\n",
    "\n",
    "def calc_mean_for_label_in_this(student_list, this):\n",
    "    ans = Student()\n",
    "    ans.name = \"Predict \" + str(this)\n",
    "    n = 0\n",
    "    for student in student_list:\n",
    "        if student.label in this:\n",
    "            n += 1\n",
    "            for i in range(13):\n",
    "                ans.predicted[i] += student.predicted[i]\n",
    "    for i in range(13):\n",
    "        ans.predicted[i] /= n\n",
    "    ans.label = calc_label(ans)\n",
    "    return ans\n",
    "    \n",
    "csvfile = open('marks.csv','r')\n",
    "csvreader = csv.reader(csvfile, delimiter=',')\n",
    "\n",
    "global_count = [Counter() for i in range(13)]\n",
    "student_list = []\n",
    "\n",
    "for row in csvreader:\n",
    "    student = Student()\n",
    "    student.name = row[0]\n",
    "    student.marks = []\n",
    "    for i in range(1, len(row)):\n",
    "        mark = int(row[i]) if row[i] != \"\" else 0\n",
    "        student.marks.append(mark)\n",
    "        global_count[i - 1].update([mark])\n",
    "    student_list.append(student)\n",
    "\n",
    "n_got_mark = Counter()\n",
    "for i in range(len(student_list)):\n",
    "    student_list[i].predicted = predict_marks(student_list[i].marks, global_count)\n",
    "    student_list[i].label = calc_label(student_list[i])\n",
    "    n_got_mark.update([student_list[i].label])\n",
    "\n",
    "for student in student_list:\n",
    "    if student.name in [\"Kozlov Semjon\", \"Rudenko Irina\", \n",
    "                         \"Kargal'cev Stepan\", \"Kolodzej Dar'ja\"]:\n",
    "        print_marks(student)\n",
    "        \n",
    "for mark in n_got_mark:\n",
    "    print(\"{:d} students get {:d}\".format(n_got_mark[mark], mark))\n",
    "        \n",
    "for label_set in [[2],[3],[4],[5], [3,4,5]]:\n",
    "    print_marks(calc_mean_for_label_in_this(student_list, label_set))\n",
    "    \n",
    "for c in global_count:\n",
    "    print(c)\n"
   ]
  }
 ],
 "metadata": {
  "kernelspec": {
   "display_name": "Python 3",
   "language": "python",
   "name": "python3"
  },
  "language_info": {
   "codemirror_mode": {
    "name": "ipython",
    "version": 3
   },
   "file_extension": ".py",
   "mimetype": "text/x-python",
   "name": "python",
   "nbconvert_exporter": "python",
   "pygments_lexer": "ipython3",
   "version": "3.5.0"
  }
 },
 "nbformat": 4,
 "nbformat_minor": 0
}
